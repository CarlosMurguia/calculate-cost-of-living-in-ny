{
 "cells": [
  {
   "cell_type": "code",
   "execution_count": 17,
   "metadata": {},
   "outputs": [],
   "source": [
    "import pymongo\n",
    "import pandas as pd\n",
    "\n",
    "conn = 'mongodb://localhost:27017'\n",
    "client = pymongo.MongoClient(conn)\n",
    "\n",
    "#Replace this with your dataset\n",
    "rentFile = pd.read_csv(\"db/NYCrent.csv\")\n",
    "\n",
    "rentdf = pd.DataFrame(rentFile)\n",
    "\n",
    "# print(rentFile)"
   ]
  },
  {
   "cell_type": "code",
   "execution_count": null,
   "metadata": {},
   "outputs": [],
   "source": []
  },
  {
   "cell_type": "code",
   "execution_count": 19,
   "metadata": {},
   "outputs": [],
   "source": [
    "db = client.nyc_neighborhoods\n",
    "\n",
    "for index, row in rentdf.iterrows():\n",
    "\n",
    "    neighborhood = row['RegionName']\n",
    "    medianrent = row['Aug-18']\n",
    "    \n",
    "    #Replace this with the unique identifier for the document\n",
    "    rent = db.crime.find({'properties.neighborhood': neighborhood})\n",
    "    \n",
    "    #This is the loop that will perform the update operations\n",
    "    for r in rent:\n",
    "        #print(c['_id'])\n",
    "\n",
    "        db.crime.update_one(\n",
    "        {\n",
    "            #this represents the ID for the document so that you can update that record\n",
    "          '_id': r['_id']\n",
    "        },\n",
    "        {\n",
    "            #indicate the properties that you want to add or modify here\n",
    "            #In this example, we are adding a key called 'councilmember' and the value 'Dartanion'\n",
    "          '$set':\n",
    "            {\n",
    "                'properties.meanRent': medianrent\n",
    "            }\n",
    "        }, upsert=False)"
   ]
  },
  {
   "cell_type": "code",
   "execution_count": null,
   "metadata": {},
   "outputs": [],
   "source": []
  }
 ],
 "metadata": {
  "kernelspec": {
   "display_name": "Python 3",
   "language": "python",
   "name": "python3"
  },
  "language_info": {
   "codemirror_mode": {
    "name": "ipython",
    "version": 3
   },
   "file_extension": ".py",
   "mimetype": "text/x-python",
   "name": "python",
   "nbconvert_exporter": "python",
   "pygments_lexer": "ipython3",
   "version": "3.6.5"
  }
 },
 "nbformat": 4,
 "nbformat_minor": 2
}
